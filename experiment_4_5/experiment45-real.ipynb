{
 "cells": [
  {
   "cell_type": "markdown",
   "metadata": {},
   "source": [
    "# Experiment 4.5 – Real Data"
   ]
  },
  {
   "cell_type": "markdown",
   "metadata": {},
   "source": [
    "## Setup"
   ]
  },
  {
   "cell_type": "code",
   "execution_count": 1,
   "metadata": {},
   "outputs": [],
   "source": [
    "using Glob\n",
    "using CSV\n",
    "using DataFrames\n",
    "using Random"
   ]
  },
  {
   "cell_type": "code",
   "execution_count": 2,
   "metadata": {},
   "outputs": [],
   "source": [
    "using Gadfly\n",
    "import Cairo, Fontconfig"
   ]
  },
  {
   "cell_type": "code",
   "execution_count": 3,
   "metadata": {},
   "outputs": [],
   "source": [
    "ENV[\"COLUMNS\"] = 1000;"
   ]
  },
  {
   "cell_type": "markdown",
   "metadata": {},
   "source": [
    "## Style"
   ]
  },
  {
   "cell_type": "code",
   "execution_count": 4,
   "metadata": {},
   "outputs": [],
   "source": [
    "function get_match_ratio_colorid(x)\n",
    "    if x == 1.0\n",
    "        return 4\n",
    "    elseif x >= 0.85\n",
    "        return 3\n",
    "    elseif x >= 0.5\n",
    "        return 2\n",
    "    else\n",
    "        return 1\n",
    "    end\n",
    "end;"
   ]
  },
  {
   "cell_type": "code",
   "execution_count": 5,
   "metadata": {},
   "outputs": [
    {
     "data": {
      "image/svg+xml": [
       "<?xml version=\"1.0\" encoding=\"UTF-8\"?>\n",
       "<!DOCTYPE svg PUBLIC \"-//W3C//DTD SVG 1.1//EN\"\n",
       " \"http://www.w3.org/Graphics/SVG/1.1/DTD/svg11.dtd\">\n",
       "<svg xmlns=\"http://www.w3.org/2000/svg\" version=\"1.1\"\n",
       "     width=\"100mm\" height=\"25mm\"\n",
       "     viewBox=\"0 0 4 1\" preserveAspectRatio=\"none\"\n",
       "     shape-rendering=\"crispEdges\" stroke=\"none\">\n",
       "<rect width=\".96\" height=\".96\" x=\"0\" y=\"0\" fill=\"#FF0000\" />\n",
       "<rect width=\".96\" height=\".96\" x=\"1\" y=\"0\" fill=\"#00008B\" />\n",
       "<rect width=\".96\" height=\".96\" x=\"2\" y=\"0\" fill=\"#00BFFF\" />\n",
       "<rect width=\".96\" height=\".96\" x=\"3\" y=\"0\" fill=\"#008000\" />\n",
       "</svg>"
      ],
      "text/plain": [
       "4-element Array{RGB{N0f8},1} with eltype ColorTypes.RGB{FixedPointNumbers.Normed{UInt8,8}}:\n",
       " RGB{N0f8}(1.0,0.0,0.0)\n",
       " RGB{N0f8}(0.0,0.0,0.545)\n",
       " RGB{N0f8}(0.0,0.749,1.0)\n",
       " RGB{N0f8}(0.0,0.502,0.0)"
      ]
     },
     "execution_count": 5,
     "metadata": {},
     "output_type": "execute_result"
    }
   ],
   "source": [
    "colors = [colorant\"red\", colorant\"darkblue\", colorant\"deepskyblue\", colorant\"green\"]"
   ]
  },
  {
   "cell_type": "code",
   "execution_count": 6,
   "metadata": {},
   "outputs": [],
   "source": [
    "defaultfont = \"CMU Serif\";\n",
    "fontstyles = (\n",
    "    key_title_font = defaultfont,\n",
    "    key_label_font = defaultfont,\n",
    "    minor_label_font = defaultfont,\n",
    "    major_label_font = defaultfont,\n",
    "    key_title_font_size = 14px,\n",
    "    key_label_font_size = 12px,\n",
    "    minor_label_font_size = 14px,\n",
    "    major_label_font_size = 16px,\n",
    ");"
   ]
  },
  {
   "cell_type": "markdown",
   "metadata": {},
   "source": [
    "## Load Data"
   ]
  },
  {
   "cell_type": "code",
   "execution_count": 7,
   "metadata": {},
   "outputs": [],
   "source": [
    "fns = glob(\"*.csv\", \"../results/experiment_4_5a/\");\n",
    "results_list = [DataFrame(CSV.File(fn)) for fn in fns];\n",
    "results = vcat(results_list...);"
   ]
  },
  {
   "cell_type": "code",
   "execution_count": 8,
   "metadata": {},
   "outputs": [],
   "source": [
    "sort!(results, :match_ratio, rev=true);"
   ]
  },
  {
   "cell_type": "code",
   "execution_count": 9,
   "metadata": {},
   "outputs": [],
   "source": [
    "mean(x) = sum(x) / length(x);"
   ]
  },
  {
   "cell_type": "code",
   "execution_count": 10,
   "metadata": {},
   "outputs": [],
   "source": [
    "results_mean = combine(groupby(results, [:N, :ρe]), [\n",
    "    :match_ratio => mean => :match_ratio,\n",
    "    :alignment_strength_1 => mean => :alignment_strength_1,\n",
    "]);"
   ]
  },
  {
   "cell_type": "code",
   "execution_count": 11,
   "metadata": {},
   "outputs": [],
   "source": [
    "results.match_color = map(get_match_ratio_colorid, results.match_ratio);\n",
    "results_mean.match_color = map(get_match_ratio_colorid, results_mean.match_ratio);"
   ]
  },
  {
   "cell_type": "markdown",
   "metadata": {},
   "source": [
    "## Figures"
   ]
  },
  {
   "cell_type": "code",
   "execution_count": 12,
   "metadata": {},
   "outputs": [],
   "source": [
    "figurespath = \"./figures_45a/tex/\"\n",
    "if !isdir(figurespath) mkpath(figurespath) end;"
   ]
  },
  {
   "cell_type": "code",
   "execution_count": 13,
   "metadata": {},
   "outputs": [],
   "source": [
    "function plot_fig1(df, v=\"v1\"; display=true, save=false)\n",
    "    @assert length(unique(df.N)) == 1\n",
    "    \n",
    "    if v == \"v1\"\n",
    "        pointstyles = (\n",
    "            point_size=2px,\n",
    "            highlight_width=0px,\n",
    "        )\n",
    "        figtype = \"discretecolor_all\"\n",
    "    else\n",
    "        pointstyles = (\n",
    "            highlight_width=0px,\n",
    "        )\n",
    "        figtype = \"discretecolor_mean\"\n",
    "    end\n",
    "    if !isdir(joinpath(figurespath, figtype)) mkpath(joinpath(figurespath, figtype)) end\n",
    "    \n",
    "    plt = plot(\n",
    "        df,\n",
    "        x=:ρe, y=:alignment_strength_1, color=:match_color,\n",
    "        Geom.point,\n",
    "\n",
    "        Guide.xlabel(\"Parameter (ρ)\"),\n",
    "        Guide.ylabel(\"Alignment Strength\"),\n",
    "        Guide.title(\"Real Data (n=$(df.N[1]))\"),\n",
    "\n",
    "        Scale.color_discrete_manual(colors..., levels=[1,2,3,4]),\n",
    "        Guide.colorkey(title=\"Match Ratio\", labels=[\"&lt;50%\", \"≥50%\", \"≥85%\", \"100%\"]),\n",
    "\n",
    "        Guide.xticks(ticks=0:0.25:1),\n",
    "        Guide.yticks(ticks=0:0.25:1),\n",
    "\n",
    "        style(\n",
    "            ;fontstyles...,\n",
    "            pointstyles...,\n",
    "        ),\n",
    "    )\n",
    "    \n",
    "    if display\n",
    "        plt |> SVG(16cm, 10cm)\n",
    "    end\n",
    "    if save\n",
    "        n_str = lpad(df.N[1]+1, 5, \"0\")\n",
    "        plt |> PGF(joinpath(figurespath, figtype, \"exp45a_fig1_$(v)_$(n_str).tex\"), 16cm, 10cm, texfonts=true)\n",
    "    end\n",
    "    \n",
    "    return plt\n",
    "end;"
   ]
  },
  {
   "cell_type": "code",
   "execution_count": 14,
   "metadata": {},
   "outputs": [],
   "source": [
    "function plot_fig2(df, v=\"v1\"; display=true, save=false)\n",
    "    @assert length(unique(df.N)) == 1\n",
    "    \n",
    "    if v == \"v1\"\n",
    "        pointstyles = (\n",
    "            point_size=2px,\n",
    "            highlight_width=0px,\n",
    "        )\n",
    "        figtype = \"continuouscolor_all\"\n",
    "    else\n",
    "        pointstyles = (\n",
    "            highlight_width=0px,\n",
    "        )\n",
    "        figtype = \"continuouscolor_mean\"\n",
    "    end\n",
    "    if !isdir(joinpath(figurespath, figtype)) mkpath(joinpath(figurespath, figtype)) end\n",
    "    \n",
    "    plt = plot(\n",
    "        df,\n",
    "        x=:ρe, y=:alignment_strength_1, color=:match_ratio,\n",
    "        Geom.point,\n",
    "\n",
    "        Guide.xlabel(\"Parameter (ρ)\"),\n",
    "        Guide.ylabel(\"Alignment Strength\"),\n",
    "        Guide.title(\"Real Data (n=$(df.N[1]))\"),\n",
    "\n",
    "        Guide.colorkey(title=\"Match Ratio\"),\n",
    "\n",
    "        Guide.xticks(ticks=0:0.25:1),\n",
    "        Guide.yticks(ticks=0:0.25:1),\n",
    "\n",
    "        style(\n",
    "            ;fontstyles...,\n",
    "            pointstyles...,\n",
    "        ),\n",
    "    )\n",
    "    \n",
    "    if display\n",
    "        plt |> SVG(16cm, 10cm)\n",
    "    end\n",
    "    if save\n",
    "        n_str = lpad(df.N[1]+1, 5, \"0\")\n",
    "        plt |> PGF(joinpath(figurespath, figtype, \"exp45a_fig2_$(v)_$(n_str).tex\"), 16cm, 10cm, texfonts=true)\n",
    "    end\n",
    "    \n",
    "    return plt\n",
    "end;"
   ]
  },
  {
   "cell_type": "code",
   "execution_count": 15,
   "metadata": {},
   "outputs": [
    {
     "name": "stdout",
     "output_type": "stream",
     "text": [
      "N = 70\n",
      "N = 94\n",
      "N = 107\n",
      "N = 139\n",
      "N = 194\n",
      "N = 277\n",
      "N = 349\n",
      "N = 445\n",
      "N = 582\n",
      "N = 832\n",
      "N = 1215\n",
      "N = 1874\n",
      "N = 3230\n"
     ]
    }
   ],
   "source": [
    "for N in sort(unique(results.N))\n",
    "    @show N\n",
    "    r = filter(row -> row.N == N, results)\n",
    "    r = r[randperm(nrow(r)),:]\n",
    "    r_mean = filter(row -> row.N == N, results_mean)\n",
    "    \n",
    "    plot_fig1(r, \"v1\", display=false, save=true)\n",
    "    plot_fig1(r_mean, \"v2\", display=false, save=true)\n",
    "    plot_fig2(r, \"v1\", display=false, save=true)\n",
    "    plot_fig2(r_mean, \"v2\", display=false, save=true)\n",
    "end"
   ]
  },
  {
   "cell_type": "code",
   "execution_count": null,
   "metadata": {},
   "outputs": [],
   "source": []
  }
 ],
 "metadata": {
  "@webio": {
   "lastCommId": null,
   "lastKernelId": null
  },
  "kernelspec": {
   "display_name": "Julia 1.5.3",
   "language": "julia",
   "name": "julia-1.5"
  },
  "language_info": {
   "file_extension": ".jl",
   "mimetype": "application/julia",
   "name": "julia",
   "version": "1.5.3"
  }
 },
 "nbformat": 4,
 "nbformat_minor": 4
}
