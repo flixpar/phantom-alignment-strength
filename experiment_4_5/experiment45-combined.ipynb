{
 "cells": [
  {
   "cell_type": "markdown",
   "metadata": {},
   "source": [
    "# Experiment 4.5 – Real and Synthetic Data"
   ]
  },
  {
   "cell_type": "markdown",
   "metadata": {},
   "source": [
    "## Setup"
   ]
  },
  {
   "cell_type": "code",
   "execution_count": 1,
   "metadata": {},
   "outputs": [],
   "source": [
    "using Glob\n",
    "using CSV\n",
    "using DataFrames\n",
    "using Distributions\n",
    "using LinearAlgebra\n",
    "using ProgressMeter"
   ]
  },
  {
   "cell_type": "code",
   "execution_count": 2,
   "metadata": {},
   "outputs": [],
   "source": [
    "using Gadfly\n",
    "import Cairo, Fontconfig"
   ]
  },
  {
   "cell_type": "code",
   "execution_count": 3,
   "metadata": {},
   "outputs": [],
   "source": [
    "ENV[\"COLUMNS\"] = 1000;"
   ]
  },
  {
   "cell_type": "markdown",
   "metadata": {},
   "source": [
    "## Style"
   ]
  },
  {
   "cell_type": "code",
   "execution_count": 4,
   "metadata": {},
   "outputs": [],
   "source": [
    "function get_match_ratio_colorid(x)\n",
    "    if x == 1.0\n",
    "        return 4\n",
    "    elseif x >= 0.85\n",
    "        return 3\n",
    "    elseif x >= 0.5\n",
    "        return 2\n",
    "    else\n",
    "        return 1\n",
    "    end\n",
    "end;"
   ]
  },
  {
   "cell_type": "code",
   "execution_count": 5,
   "metadata": {},
   "outputs": [
    {
     "data": {
      "image/svg+xml": [
       "<?xml version=\"1.0\" encoding=\"UTF-8\"?>\n",
       "<!DOCTYPE svg PUBLIC \"-//W3C//DTD SVG 1.1//EN\"\n",
       " \"http://www.w3.org/Graphics/SVG/1.1/DTD/svg11.dtd\">\n",
       "<svg xmlns=\"http://www.w3.org/2000/svg\" version=\"1.1\"\n",
       "     width=\"100mm\" height=\"25mm\"\n",
       "     viewBox=\"0 0 4 1\" preserveAspectRatio=\"none\"\n",
       "     shape-rendering=\"crispEdges\" stroke=\"none\">\n",
       "<rect width=\".96\" height=\".96\" x=\"0\" y=\"0\" fill=\"#FF0000\" />\n",
       "<rect width=\".96\" height=\".96\" x=\"1\" y=\"0\" fill=\"#00008B\" />\n",
       "<rect width=\".96\" height=\".96\" x=\"2\" y=\"0\" fill=\"#00BFFF\" />\n",
       "<rect width=\".96\" height=\".96\" x=\"3\" y=\"0\" fill=\"#008000\" />\n",
       "</svg>"
      ],
      "text/plain": [
       "4-element Array{RGB{N0f8},1} with eltype ColorTypes.RGB{FixedPointNumbers.Normed{UInt8,8}}:\n",
       " RGB{N0f8}(1.0,0.0,0.0)\n",
       " RGB{N0f8}(0.0,0.0,0.545)\n",
       " RGB{N0f8}(0.0,0.749,1.0)\n",
       " RGB{N0f8}(0.0,0.502,0.0)"
      ]
     },
     "execution_count": 5,
     "metadata": {},
     "output_type": "execute_result"
    }
   ],
   "source": [
    "colors = [colorant\"red\", colorant\"darkblue\", colorant\"deepskyblue\", colorant\"green\"]"
   ]
  },
  {
   "cell_type": "code",
   "execution_count": 6,
   "metadata": {},
   "outputs": [],
   "source": [
    "defaultfont = \"CMU Serif\";\n",
    "fontstyles = (\n",
    "    key_title_font = defaultfont,\n",
    "    key_label_font = defaultfont,\n",
    "    minor_label_font = defaultfont,\n",
    "    major_label_font = defaultfont,\n",
    "    key_title_font_size = 14px,\n",
    "    key_label_font_size = 12px,\n",
    "    minor_label_font_size = 14px,\n",
    "    major_label_font_size = 16px,\n",
    ");"
   ]
  },
  {
   "cell_type": "markdown",
   "metadata": {},
   "source": [
    "## Load Data"
   ]
  },
  {
   "cell_type": "code",
   "execution_count": 7,
   "metadata": {},
   "outputs": [],
   "source": [
    "fns = glob(\"*.csv\", \"../results/experiment_4_5a/\");\n",
    "results_list = [DataFrame(CSV.File(fn)) for fn in fns];\n",
    "results_real = vcat(results_list...);"
   ]
  },
  {
   "cell_type": "code",
   "execution_count": 8,
   "metadata": {},
   "outputs": [],
   "source": [
    "fns = glob(\"*.csv\", \"../results/experiment_4_5b/\");\n",
    "results_list = [DataFrame(CSV.File(fn)) for fn in fns];\n",
    "results_syn = vcat(results_list...);"
   ]
  },
  {
   "cell_type": "code",
   "execution_count": 9,
   "metadata": {},
   "outputs": [],
   "source": [
    "results_real_mean = combine(groupby(results_real, [:N, :ρe]), [\n",
    "    :match_ratio => mean => :match_ratio,\n",
    "    :alignment_strength_1 => mean => :alignment_strength_1,\n",
    "]);\n",
    "results_syn_mean = combine(groupby(results_syn, [:N, :ρe]), [\n",
    "    :match_ratio => mean => :match_ratio,\n",
    "    :alignment_strength_1 => mean => :alignment_strength_1,\n",
    "]);"
   ]
  },
  {
   "cell_type": "code",
   "execution_count": 10,
   "metadata": {},
   "outputs": [],
   "source": [
    "results_real.match_color = map(get_match_ratio_colorid, results_real.match_ratio);\n",
    "results_real_mean.match_color = map(get_match_ratio_colorid, results_real_mean.match_ratio);\n",
    "\n",
    "results_syn.match_color = map(get_match_ratio_colorid, results_syn.match_ratio);\n",
    "results_syn_mean.match_color = map(get_match_ratio_colorid, results_syn_mean.match_ratio);"
   ]
  },
  {
   "cell_type": "markdown",
   "metadata": {},
   "source": [
    "## Figures"
   ]
  },
  {
   "cell_type": "code",
   "execution_count": 11,
   "metadata": {},
   "outputs": [],
   "source": [
    "figurespath = \"./figures_45c/tex/\"\n",
    "if !isdir(figurespath) mkpath(figurespath) end;"
   ]
  },
  {
   "cell_type": "code",
   "execution_count": 12,
   "metadata": {},
   "outputs": [],
   "source": [
    "function plot_fig1(df1, df2, v=\"v1\"; display=true, save=false)\n",
    "    @assert length(unique(df1.N)) == 1\n",
    "    @assert length(unique(df2.N)) == 1\n",
    "    \n",
    "    if v == \"v1\"\n",
    "        pointstyles = []\n",
    "        figtype = \"discretecolor_all\"\n",
    "    else\n",
    "        pointstyles = (\n",
    "            highlight_width=0px,\n",
    "        )\n",
    "        figtype = \"discretecolor_mean\"\n",
    "    end\n",
    "    if !isdir(joinpath(figurespath, figtype)) mkpath(joinpath(figurespath, figtype)) end\n",
    "    \n",
    "    _makeplt(_df, t) = plot(\n",
    "        _df,\n",
    "        x=:ρe, y=:alignment_strength_1, color=:match_color,\n",
    "        Geom.point,\n",
    "\n",
    "        Guide.xlabel(\"Parameter (ρ)\"),\n",
    "        Guide.ylabel(\"Alignment Strength\"),\n",
    "        Guide.title(t),\n",
    "\n",
    "        Scale.color_discrete_manual(colors..., levels=[1,2,3,4]),\n",
    "        Guide.colorkey(title=\"Match Ratio\", labels=[\"&lt;50%\", \"≥50%\", \"≥85%\", \"100%\"]),\n",
    "\n",
    "        Guide.xticks(ticks=0:0.25:1),\n",
    "        Guide.yticks(ticks=0:0.25:1),\n",
    "\n",
    "        style(\n",
    "            ;fontstyles...,\n",
    "            pointstyles...,\n",
    "        ),\n",
    "    )\n",
    "    \n",
    "    plt1 = _makeplt(df1, \"Real Data (n=$(df1.N[1]))\")\n",
    "    plt2 = _makeplt(df2, \"Erdos-Renyi (n=$(df1.N[1]))\")\n",
    "    plt = hstack(plt1, plt2)\n",
    "    \n",
    "    if display\n",
    "        plt |> SVG(34cm, 10cm)\n",
    "    end\n",
    "    if save\n",
    "        n_str = lpad(df1.N[1]+1, 5, \"0\")\n",
    "        plt |> PGF(joinpath(figurespath, \"$(figtype)/exp45c_fig1_$(v)_$(n_str).tex\"), 34cm, 10cm, texfonts=true)\n",
    "    end\n",
    "    \n",
    "    return plt\n",
    "end;"
   ]
  },
  {
   "cell_type": "code",
   "execution_count": 13,
   "metadata": {},
   "outputs": [],
   "source": [
    "function plot_fig2(df1, df2, v=\"v1\"; display=true, save=false)\n",
    "    @assert length(unique(df1.N)) == 1\n",
    "    @assert length(unique(df2.N)) == 1\n",
    "    \n",
    "    if v == \"v1\"\n",
    "        pointstyles = []\n",
    "        figtype = \"continuouscolor_all\"\n",
    "    else\n",
    "        pointstyles = (\n",
    "            highlight_width=0px,\n",
    "        )\n",
    "        figtype = \"continuouscolor_mean\"\n",
    "    end\n",
    "    if !isdir(joinpath(figurespath, figtype)) mkpath(joinpath(figurespath, figtype)) end\n",
    "    \n",
    "    _makeplt(_df, t) = plot(\n",
    "        _df,\n",
    "        x=:ρe, y=:alignment_strength_1, color=:match_ratio,\n",
    "        Geom.point,\n",
    "\n",
    "        Guide.xlabel(\"Parameter (ρ)\"),\n",
    "        Guide.ylabel(\"Alignment Strength\"),\n",
    "        Guide.title(t),\n",
    "\n",
    "        Guide.colorkey(title=\"Match Ratio\"),\n",
    "\n",
    "        Guide.xticks(ticks=0:0.25:1),\n",
    "        Guide.yticks(ticks=0:0.25:1),\n",
    "\n",
    "        style(\n",
    "            ;fontstyles...,\n",
    "            pointstyles...,\n",
    "        ),\n",
    "    )\n",
    "    \n",
    "    plt1 = _makeplt(df1, \"Real Data (n=$(df1.N[1]))\")\n",
    "    plt2 = _makeplt(df2, \"Erdos-Renyi (n=$(df1.N[1]))\")\n",
    "    plt = hstack(plt1, plt2)\n",
    "    \n",
    "    if display\n",
    "        plt |> SVG(34cm, 10cm)\n",
    "    end\n",
    "    if save\n",
    "        n_str = lpad(df1.N[1]+1, 5, \"0\")\n",
    "        plt |> PGF(joinpath(figurespath, \"$(figtype)/exp45c_fig2_$(v)_$(n_str).tex\"), 34cm, 10cm, texfonts=true)\n",
    "    end\n",
    "    \n",
    "    return plt\n",
    "end;"
   ]
  },
  {
   "cell_type": "code",
   "execution_count": 14,
   "metadata": {},
   "outputs": [
    {
     "name": "stdout",
     "output_type": "stream",
     "text": [
      "N = 70\n",
      "N = 94\n",
      "N = 107\n",
      "N = 139\n",
      "N = 194\n",
      "N = 277\n",
      "N = 349\n",
      "N = 445\n",
      "N = 582\n",
      "N = 832\n",
      "N = 1215\n",
      "N = 1874\n",
      "N = 3230\n"
     ]
    }
   ],
   "source": [
    "for N in sort(unique(results_real.N))\n",
    "    @show N\n",
    "    \n",
    "    r_real = filter(row -> row.N == N, results_real)\n",
    "    r_real_mean = filter(row -> row.N == N, results_real_mean)\n",
    "    \n",
    "    r_syn = filter(row -> row.N == N, results_syn)\n",
    "    r_syn_mean = filter(row -> row.N == N, results_syn_mean)\n",
    "    \n",
    "    if nrow(r_syn) == 0\n",
    "        println(\"skipped\")\n",
    "        continue\n",
    "    end\n",
    "    \n",
    "    plot_fig1(r_real, r_syn, \"v1\", display=false, save=true)\n",
    "    plot_fig1(r_real_mean, r_syn_mean, \"v2\", display=false, save=true)\n",
    "    plot_fig2(r_real, r_syn, \"v1\", display=false, save=true)\n",
    "    plot_fig2(r_real_mean, r_syn_mean, \"v2\", display=false, save=true)\n",
    "end"
   ]
  },
  {
   "cell_type": "code",
   "execution_count": null,
   "metadata": {},
   "outputs": [],
   "source": []
  }
 ],
 "metadata": {
  "kernelspec": {
   "display_name": "Julia 1.5.3",
   "language": "julia",
   "name": "julia-1.5"
  },
  "language_info": {
   "file_extension": ".jl",
   "mimetype": "application/julia",
   "name": "julia",
   "version": "1.5.3"
  }
 },
 "nbformat": 4,
 "nbformat_minor": 4
}
